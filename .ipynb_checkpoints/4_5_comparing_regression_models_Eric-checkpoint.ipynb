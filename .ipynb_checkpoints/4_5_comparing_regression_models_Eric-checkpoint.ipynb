{
 "cells": [
  {
   "cell_type": "markdown",
   "id": "86941bb1",
   "metadata": {},
   "source": [
    "# LAB 4-5 - COMPARING REGRESSION MODELS"
   ]
  },
  {
   "cell_type": "markdown",
   "id": "7ed5dc2f",
   "metadata": {},
   "source": [
    "For this lab, I'll restart from an empty notebook and just grab back the transformations I already selected in the previsou labs, keeping only the useful steps."
   ]
  },
  {
   "cell_type": "code",
   "execution_count": 1,
   "id": "31225a83",
   "metadata": {},
   "outputs": [],
   "source": [
    "import pandas as pd\n",
    "import seaborn as sns\n",
    "import matplotlib.pyplot as plt\n",
    "import numpy as np\n",
    "from datetime import datetime"
   ]
  },
  {
   "cell_type": "code",
   "execution_count": 2,
   "id": "1a1dd2a4",
   "metadata": {},
   "outputs": [],
   "source": [
    "customer_df = pd.read_csv('we_fn_use_c_marketing_customer_value_analysis.csv')"
   ]
  },
  {
   "cell_type": "code",
   "execution_count": 3,
   "id": "a442f0e9",
   "metadata": {},
   "outputs": [],
   "source": [
    "customer_df = customer_df.rename(columns={'EmploymentStatus': 'Employment Status'})\n",
    "customer_df.columns = [colname.lower().replace(' ','_') for colname in customer_df.columns]\n",
    "customer_df['effective_to_date'] = pd.to_datetime(customer_df['effective_to_date'], errors='coerce')\n",
    "data_wrangling = customer_df.copy()"
   ]
  },
  {
   "cell_type": "markdown",
   "id": "d16bd77b",
   "metadata": {},
   "source": [
    "#### Months_since_last_claim"
   ]
  },
  {
   "cell_type": "code",
   "execution_count": 4,
   "id": "0a816550",
   "metadata": {},
   "outputs": [],
   "source": [
    "def clean_month_since_claim(x):\n",
    "    if x < 12:\n",
    "        return 0\n",
    "    elif x < 24:\n",
    "        return 1\n",
    "    else:\n",
    "        return 2\n",
    "\n",
    "data_wrangling['years_since_last_claim'] = data_wrangling['months_since_last_claim'].apply(clean_month_since_claim)\n",
    "data_wrangling = data_wrangling.drop(['months_since_last_claim'], axis = 1)"
   ]
  },
  {
   "cell_type": "markdown",
   "id": "0d4a925d",
   "metadata": {},
   "source": [
    "#### Months since policy inception"
   ]
  },
  {
   "cell_type": "code",
   "execution_count": 5,
   "id": "bac6d1bb",
   "metadata": {},
   "outputs": [],
   "source": [
    "def clean_month_since_inception(x):\n",
    "    if x < 24:\n",
    "        return 2\n",
    "    elif x < 48:\n",
    "        return 4\n",
    "    elif x < 72:\n",
    "        return 6\n",
    "    else:\n",
    "        return 8\n",
    "\n",
    "data_wrangling['years_since_policy_inception'] = data_wrangling['months_since_policy_inception'].apply(clean_month_since_inception)\n",
    "data_wrangling = data_wrangling.drop(['months_since_policy_inception'], axis = 1)"
   ]
  },
  {
   "cell_type": "markdown",
   "id": "f9212aa8",
   "metadata": {},
   "source": [
    "#### Number of open complaints"
   ]
  },
  {
   "cell_type": "code",
   "execution_count": 6,
   "id": "f8f4db53",
   "metadata": {},
   "outputs": [],
   "source": [
    "data_wrangling['open_complaints'] = np.where(data_wrangling['number_of_open_complaints'] == 0, False, True)\n",
    "data_wrangling = data_wrangling.drop(['number_of_open_complaints'], axis = 1)"
   ]
  },
  {
   "cell_type": "markdown",
   "id": "f6049c19",
   "metadata": {},
   "source": [
    "#### Number of policies"
   ]
  },
  {
   "cell_type": "code",
   "execution_count": 7,
   "id": "7fec9955",
   "metadata": {},
   "outputs": [],
   "source": [
    "def clean_policies(x):\n",
    "    if x <= 3:\n",
    "        return x\n",
    "    elif x<= 6:\n",
    "        return '4-6'\n",
    "    else:\n",
    "        return '> 6'\n",
    "\n",
    "data_wrangling['number_of_policies'] = data_wrangling['number_of_policies'].apply(clean_policies)\n",
    "data_wrangling['number_of_policies'] = data_wrangling['number_of_policies'].astype(str)"
   ]
  },
  {
   "cell_type": "markdown",
   "id": "112ef338",
   "metadata": {},
   "source": [
    "#### Income"
   ]
  },
  {
   "cell_type": "code",
   "execution_count": 8,
   "id": "0430267e",
   "metadata": {},
   "outputs": [],
   "source": [
    "income_labels = [0, 1, 2, 3]\n",
    "data_wrangling['income_category'] = pd.cut(data_wrangling['income'],[-1,0,35000,65000,100000],labels=income_labels)\n",
    "data_wrangling = data_wrangling.drop(['income'], axis=1)"
   ]
  },
  {
   "cell_type": "markdown",
   "id": "a4be77ec",
   "metadata": {},
   "source": [
    "#### Monthly Premium Auto"
   ]
  },
  {
   "cell_type": "code",
   "execution_count": 9,
   "id": "b138dd03",
   "metadata": {},
   "outputs": [],
   "source": [
    "premium_labels = [1, 2, 3]\n",
    "data_wrangling['premium_category'] = pd.cut(data_wrangling['monthly_premium_auto'],[0,70,100,300],labels=premium_labels)\n",
    "data_wrangling = data_wrangling.drop(['monthly_premium_auto'], axis=1)"
   ]
  },
  {
   "cell_type": "markdown",
   "id": "0c14bc87",
   "metadata": {},
   "source": [
    "#### Response"
   ]
  },
  {
   "cell_type": "code",
   "execution_count": 10,
   "id": "88e8ae66",
   "metadata": {},
   "outputs": [],
   "source": [
    "data_wrangling['response'] = np.where(data_wrangling['response'] == 'No', 0, 1)"
   ]
  },
  {
   "cell_type": "markdown",
   "id": "fe69f18c",
   "metadata": {},
   "source": [
    "#### Mapping for Coverage, Education & Vehicle Size"
   ]
  },
  {
   "cell_type": "code",
   "execution_count": 11,
   "id": "e761ca69",
   "metadata": {},
   "outputs": [],
   "source": [
    "data_wrangling['coverage'] = data_wrangling['coverage'].map({ 'Basic':1, 'Extended':2, 'Premium':3 })\n",
    "data_wrangling['education'] = data_wrangling['education'].map({ 'High School or Below':1, 'College':2, 'Bachelor':3, 'Master':4, 'Doctor':5 })\n",
    "data_wrangling['vehicle_size'] = data_wrangling['vehicle_size'].map({ 'Small':1, 'Medsize':2, 'Large':3 })"
   ]
  },
  {
   "cell_type": "markdown",
   "id": "37f118cb",
   "metadata": {},
   "source": [
    "#### Policy Type & Policy"
   ]
  },
  {
   "cell_type": "code",
   "execution_count": 12,
   "id": "6381ccf6",
   "metadata": {},
   "outputs": [],
   "source": [
    "data_wrangling = data_wrangling.drop(['policy_type'], axis=1)\n",
    "data_wrangling['policy'] = data_wrangling['policy'].apply(lambda x: 'Special' if 'Special' in x else x)"
   ]
  },
  {
   "cell_type": "markdown",
   "id": "8cbff823",
   "metadata": {},
   "source": [
    "#### Vehicle CLass"
   ]
  },
  {
   "cell_type": "code",
   "execution_count": 13,
   "id": "bdc242da",
   "metadata": {},
   "outputs": [],
   "source": [
    "def veh_class_cleaning(x):\n",
    "    if 'Luxury' in x:\n",
    "        return 'Lux'\n",
    "    elif 'SUV'in x:\n",
    "        return 'SUV'\n",
    "    else:\n",
    "        return 'Car'\n",
    "\n",
    "data_wrangling['vehicle_class'] = data_wrangling['vehicle_class'].apply(veh_class_cleaning)"
   ]
  },
  {
   "cell_type": "code",
   "execution_count": 14,
   "id": "a0ff415d",
   "metadata": {},
   "outputs": [
    {
     "data": {
      "text/html": [
       "<div>\n",
       "<style scoped>\n",
       "    .dataframe tbody tr th:only-of-type {\n",
       "        vertical-align: middle;\n",
       "    }\n",
       "\n",
       "    .dataframe tbody tr th {\n",
       "        vertical-align: top;\n",
       "    }\n",
       "\n",
       "    .dataframe thead th {\n",
       "        text-align: right;\n",
       "    }\n",
       "</style>\n",
       "<table border=\"1\" class=\"dataframe\">\n",
       "  <thead>\n",
       "    <tr style=\"text-align: right;\">\n",
       "      <th></th>\n",
       "      <th>customer</th>\n",
       "      <th>state</th>\n",
       "      <th>customer_lifetime_value</th>\n",
       "      <th>response</th>\n",
       "      <th>coverage</th>\n",
       "      <th>education</th>\n",
       "      <th>effective_to_date</th>\n",
       "      <th>employment_status</th>\n",
       "      <th>gender</th>\n",
       "      <th>location_code</th>\n",
       "      <th>...</th>\n",
       "      <th>renew_offer_type</th>\n",
       "      <th>sales_channel</th>\n",
       "      <th>total_claim_amount</th>\n",
       "      <th>vehicle_class</th>\n",
       "      <th>vehicle_size</th>\n",
       "      <th>years_since_last_claim</th>\n",
       "      <th>years_since_policy_inception</th>\n",
       "      <th>open_complaints</th>\n",
       "      <th>income_category</th>\n",
       "      <th>premium_category</th>\n",
       "    </tr>\n",
       "  </thead>\n",
       "  <tbody>\n",
       "    <tr>\n",
       "      <th>0</th>\n",
       "      <td>BU79786</td>\n",
       "      <td>Washington</td>\n",
       "      <td>2763.519279</td>\n",
       "      <td>0</td>\n",
       "      <td>1</td>\n",
       "      <td>3</td>\n",
       "      <td>2011-02-24</td>\n",
       "      <td>Employed</td>\n",
       "      <td>F</td>\n",
       "      <td>Suburban</td>\n",
       "      <td>...</td>\n",
       "      <td>Offer1</td>\n",
       "      <td>Agent</td>\n",
       "      <td>384.811147</td>\n",
       "      <td>Car</td>\n",
       "      <td>2</td>\n",
       "      <td>2</td>\n",
       "      <td>2</td>\n",
       "      <td>False</td>\n",
       "      <td>2</td>\n",
       "      <td>1</td>\n",
       "    </tr>\n",
       "    <tr>\n",
       "      <th>1</th>\n",
       "      <td>QZ44356</td>\n",
       "      <td>Arizona</td>\n",
       "      <td>6979.535903</td>\n",
       "      <td>0</td>\n",
       "      <td>2</td>\n",
       "      <td>3</td>\n",
       "      <td>2011-01-31</td>\n",
       "      <td>Unemployed</td>\n",
       "      <td>F</td>\n",
       "      <td>Suburban</td>\n",
       "      <td>...</td>\n",
       "      <td>Offer3</td>\n",
       "      <td>Agent</td>\n",
       "      <td>1131.464935</td>\n",
       "      <td>Car</td>\n",
       "      <td>2</td>\n",
       "      <td>1</td>\n",
       "      <td>4</td>\n",
       "      <td>False</td>\n",
       "      <td>0</td>\n",
       "      <td>2</td>\n",
       "    </tr>\n",
       "    <tr>\n",
       "      <th>2</th>\n",
       "      <td>AI49188</td>\n",
       "      <td>Nevada</td>\n",
       "      <td>12887.431650</td>\n",
       "      <td>0</td>\n",
       "      <td>3</td>\n",
       "      <td>3</td>\n",
       "      <td>2011-02-19</td>\n",
       "      <td>Employed</td>\n",
       "      <td>F</td>\n",
       "      <td>Suburban</td>\n",
       "      <td>...</td>\n",
       "      <td>Offer1</td>\n",
       "      <td>Agent</td>\n",
       "      <td>566.472247</td>\n",
       "      <td>Car</td>\n",
       "      <td>2</td>\n",
       "      <td>1</td>\n",
       "      <td>4</td>\n",
       "      <td>False</td>\n",
       "      <td>2</td>\n",
       "      <td>3</td>\n",
       "    </tr>\n",
       "    <tr>\n",
       "      <th>3</th>\n",
       "      <td>WW63253</td>\n",
       "      <td>California</td>\n",
       "      <td>7645.861827</td>\n",
       "      <td>0</td>\n",
       "      <td>1</td>\n",
       "      <td>3</td>\n",
       "      <td>2011-01-20</td>\n",
       "      <td>Unemployed</td>\n",
       "      <td>M</td>\n",
       "      <td>Suburban</td>\n",
       "      <td>...</td>\n",
       "      <td>Offer1</td>\n",
       "      <td>Call Center</td>\n",
       "      <td>529.881344</td>\n",
       "      <td>SUV</td>\n",
       "      <td>2</td>\n",
       "      <td>1</td>\n",
       "      <td>6</td>\n",
       "      <td>False</td>\n",
       "      <td>0</td>\n",
       "      <td>3</td>\n",
       "    </tr>\n",
       "    <tr>\n",
       "      <th>4</th>\n",
       "      <td>HB64268</td>\n",
       "      <td>Washington</td>\n",
       "      <td>2813.692575</td>\n",
       "      <td>0</td>\n",
       "      <td>1</td>\n",
       "      <td>3</td>\n",
       "      <td>2011-02-03</td>\n",
       "      <td>Employed</td>\n",
       "      <td>M</td>\n",
       "      <td>Rural</td>\n",
       "      <td>...</td>\n",
       "      <td>Offer1</td>\n",
       "      <td>Agent</td>\n",
       "      <td>138.130879</td>\n",
       "      <td>Car</td>\n",
       "      <td>2</td>\n",
       "      <td>1</td>\n",
       "      <td>4</td>\n",
       "      <td>False</td>\n",
       "      <td>2</td>\n",
       "      <td>2</td>\n",
       "    </tr>\n",
       "    <tr>\n",
       "      <th>...</th>\n",
       "      <td>...</td>\n",
       "      <td>...</td>\n",
       "      <td>...</td>\n",
       "      <td>...</td>\n",
       "      <td>...</td>\n",
       "      <td>...</td>\n",
       "      <td>...</td>\n",
       "      <td>...</td>\n",
       "      <td>...</td>\n",
       "      <td>...</td>\n",
       "      <td>...</td>\n",
       "      <td>...</td>\n",
       "      <td>...</td>\n",
       "      <td>...</td>\n",
       "      <td>...</td>\n",
       "      <td>...</td>\n",
       "      <td>...</td>\n",
       "      <td>...</td>\n",
       "      <td>...</td>\n",
       "      <td>...</td>\n",
       "      <td>...</td>\n",
       "    </tr>\n",
       "    <tr>\n",
       "      <th>9129</th>\n",
       "      <td>LA72316</td>\n",
       "      <td>California</td>\n",
       "      <td>23405.987980</td>\n",
       "      <td>0</td>\n",
       "      <td>1</td>\n",
       "      <td>3</td>\n",
       "      <td>2011-02-10</td>\n",
       "      <td>Employed</td>\n",
       "      <td>M</td>\n",
       "      <td>Urban</td>\n",
       "      <td>...</td>\n",
       "      <td>Offer2</td>\n",
       "      <td>Web</td>\n",
       "      <td>198.234764</td>\n",
       "      <td>Car</td>\n",
       "      <td>2</td>\n",
       "      <td>1</td>\n",
       "      <td>8</td>\n",
       "      <td>False</td>\n",
       "      <td>3</td>\n",
       "      <td>2</td>\n",
       "    </tr>\n",
       "    <tr>\n",
       "      <th>9130</th>\n",
       "      <td>PK87824</td>\n",
       "      <td>California</td>\n",
       "      <td>3096.511217</td>\n",
       "      <td>1</td>\n",
       "      <td>2</td>\n",
       "      <td>2</td>\n",
       "      <td>2011-02-12</td>\n",
       "      <td>Employed</td>\n",
       "      <td>F</td>\n",
       "      <td>Suburban</td>\n",
       "      <td>...</td>\n",
       "      <td>Offer1</td>\n",
       "      <td>Branch</td>\n",
       "      <td>379.200000</td>\n",
       "      <td>Car</td>\n",
       "      <td>2</td>\n",
       "      <td>1</td>\n",
       "      <td>4</td>\n",
       "      <td>False</td>\n",
       "      <td>1</td>\n",
       "      <td>2</td>\n",
       "    </tr>\n",
       "    <tr>\n",
       "      <th>9131</th>\n",
       "      <td>TD14365</td>\n",
       "      <td>California</td>\n",
       "      <td>8163.890428</td>\n",
       "      <td>0</td>\n",
       "      <td>2</td>\n",
       "      <td>3</td>\n",
       "      <td>2011-02-06</td>\n",
       "      <td>Unemployed</td>\n",
       "      <td>M</td>\n",
       "      <td>Suburban</td>\n",
       "      <td>...</td>\n",
       "      <td>Offer1</td>\n",
       "      <td>Branch</td>\n",
       "      <td>790.784983</td>\n",
       "      <td>Car</td>\n",
       "      <td>2</td>\n",
       "      <td>0</td>\n",
       "      <td>4</td>\n",
       "      <td>True</td>\n",
       "      <td>0</td>\n",
       "      <td>2</td>\n",
       "    </tr>\n",
       "    <tr>\n",
       "      <th>9132</th>\n",
       "      <td>UP19263</td>\n",
       "      <td>California</td>\n",
       "      <td>7524.442436</td>\n",
       "      <td>0</td>\n",
       "      <td>2</td>\n",
       "      <td>2</td>\n",
       "      <td>2011-02-03</td>\n",
       "      <td>Employed</td>\n",
       "      <td>M</td>\n",
       "      <td>Suburban</td>\n",
       "      <td>...</td>\n",
       "      <td>Offer3</td>\n",
       "      <td>Branch</td>\n",
       "      <td>691.200000</td>\n",
       "      <td>Car</td>\n",
       "      <td>3</td>\n",
       "      <td>2</td>\n",
       "      <td>2</td>\n",
       "      <td>False</td>\n",
       "      <td>1</td>\n",
       "      <td>2</td>\n",
       "    </tr>\n",
       "    <tr>\n",
       "      <th>9133</th>\n",
       "      <td>Y167826</td>\n",
       "      <td>California</td>\n",
       "      <td>2611.836866</td>\n",
       "      <td>0</td>\n",
       "      <td>2</td>\n",
       "      <td>2</td>\n",
       "      <td>2011-02-14</td>\n",
       "      <td>Unemployed</td>\n",
       "      <td>M</td>\n",
       "      <td>Suburban</td>\n",
       "      <td>...</td>\n",
       "      <td>Offer4</td>\n",
       "      <td>Call Center</td>\n",
       "      <td>369.600000</td>\n",
       "      <td>Car</td>\n",
       "      <td>2</td>\n",
       "      <td>0</td>\n",
       "      <td>8</td>\n",
       "      <td>False</td>\n",
       "      <td>0</td>\n",
       "      <td>2</td>\n",
       "    </tr>\n",
       "  </tbody>\n",
       "</table>\n",
       "<p>9134 rows × 23 columns</p>\n",
       "</div>"
      ],
      "text/plain": [
       "     customer       state  customer_lifetime_value  response  coverage  \\\n",
       "0     BU79786  Washington              2763.519279         0         1   \n",
       "1     QZ44356     Arizona              6979.535903         0         2   \n",
       "2     AI49188      Nevada             12887.431650         0         3   \n",
       "3     WW63253  California              7645.861827         0         1   \n",
       "4     HB64268  Washington              2813.692575         0         1   \n",
       "...       ...         ...                      ...       ...       ...   \n",
       "9129  LA72316  California             23405.987980         0         1   \n",
       "9130  PK87824  California              3096.511217         1         2   \n",
       "9131  TD14365  California              8163.890428         0         2   \n",
       "9132  UP19263  California              7524.442436         0         2   \n",
       "9133  Y167826  California              2611.836866         0         2   \n",
       "\n",
       "      education effective_to_date employment_status gender location_code  ...  \\\n",
       "0             3        2011-02-24          Employed      F      Suburban  ...   \n",
       "1             3        2011-01-31        Unemployed      F      Suburban  ...   \n",
       "2             3        2011-02-19          Employed      F      Suburban  ...   \n",
       "3             3        2011-01-20        Unemployed      M      Suburban  ...   \n",
       "4             3        2011-02-03          Employed      M         Rural  ...   \n",
       "...         ...               ...               ...    ...           ...  ...   \n",
       "9129          3        2011-02-10          Employed      M         Urban  ...   \n",
       "9130          2        2011-02-12          Employed      F      Suburban  ...   \n",
       "9131          3        2011-02-06        Unemployed      M      Suburban  ...   \n",
       "9132          2        2011-02-03          Employed      M      Suburban  ...   \n",
       "9133          2        2011-02-14        Unemployed      M      Suburban  ...   \n",
       "\n",
       "     renew_offer_type sales_channel total_claim_amount vehicle_class  \\\n",
       "0              Offer1         Agent         384.811147           Car   \n",
       "1              Offer3         Agent        1131.464935           Car   \n",
       "2              Offer1         Agent         566.472247           Car   \n",
       "3              Offer1   Call Center         529.881344           SUV   \n",
       "4              Offer1         Agent         138.130879           Car   \n",
       "...               ...           ...                ...           ...   \n",
       "9129           Offer2           Web         198.234764           Car   \n",
       "9130           Offer1        Branch         379.200000           Car   \n",
       "9131           Offer1        Branch         790.784983           Car   \n",
       "9132           Offer3        Branch         691.200000           Car   \n",
       "9133           Offer4   Call Center         369.600000           Car   \n",
       "\n",
       "     vehicle_size  years_since_last_claim years_since_policy_inception  \\\n",
       "0               2                       2                            2   \n",
       "1               2                       1                            4   \n",
       "2               2                       1                            4   \n",
       "3               2                       1                            6   \n",
       "4               2                       1                            4   \n",
       "...           ...                     ...                          ...   \n",
       "9129            2                       1                            8   \n",
       "9130            2                       1                            4   \n",
       "9131            2                       0                            4   \n",
       "9132            3                       2                            2   \n",
       "9133            2                       0                            8   \n",
       "\n",
       "      open_complaints  income_category  premium_category  \n",
       "0               False                2                 1  \n",
       "1               False                0                 2  \n",
       "2               False                2                 3  \n",
       "3               False                0                 3  \n",
       "4               False                2                 2  \n",
       "...               ...              ...               ...  \n",
       "9129            False                3                 2  \n",
       "9130            False                1                 2  \n",
       "9131             True                0                 2  \n",
       "9132            False                1                 2  \n",
       "9133            False                0                 2  \n",
       "\n",
       "[9134 rows x 23 columns]"
      ]
     },
     "execution_count": 14,
     "metadata": {},
     "output_type": "execute_result"
    }
   ],
   "source": [
    "data_wrangling"
   ]
  },
  {
   "cell_type": "markdown",
   "id": "a594152e",
   "metadata": {},
   "source": [
    "#### Effective to Date"
   ]
  },
  {
   "cell_type": "markdown",
   "id": "a27fda5d",
   "metadata": {},
   "source": [
    "Based on the hint, added the month, week and day columns, instead of just droping the date column."
   ]
  },
  {
   "cell_type": "code",
   "execution_count": 15,
   "id": "e3139094",
   "metadata": {},
   "outputs": [
    {
     "name": "stderr",
     "output_type": "stream",
     "text": [
      "C:\\Users\\ebour\\AppData\\Local\\Temp/ipykernel_7588/738472651.py:3: FutureWarning: weekofyear and week have been deprecated, please use DatetimeIndex.isocalendar().week instead, which returns a Series.  To exactly reproduce the behavior of week and weekofyear and return an Index, you may call pd.Int64Index(idx.isocalendar().week)\n",
      "  data_wrangling['week'] = pd.DatetimeIndex(data_wrangling['effective_to_date']).week\n"
     ]
    }
   ],
   "source": [
    "data_wrangling['effective_to_date'] = pd.to_datetime(data_wrangling['effective_to_date'], errors='coerce')\n",
    "data_wrangling['month'] = pd.DatetimeIndex(data_wrangling['effective_to_date']).month\n",
    "data_wrangling['week'] = pd.DatetimeIndex(data_wrangling['effective_to_date']).week\n",
    "data_wrangling['day'] = pd.DatetimeIndex(data_wrangling['effective_to_date']).day\n",
    "\n",
    "data_wrangling = data_wrangling.drop(['effective_to_date'], axis=1)"
   ]
  },
  {
   "cell_type": "markdown",
   "id": "a1296a1f",
   "metadata": {},
   "source": [
    "#### Customer"
   ]
  },
  {
   "cell_type": "code",
   "execution_count": 16,
   "id": "978ad1a7",
   "metadata": {},
   "outputs": [],
   "source": [
    "data_wrangling = data_wrangling.drop(['customer'], axis=1)"
   ]
  },
  {
   "cell_type": "markdown",
   "id": "ab9455d5",
   "metadata": {},
   "source": [
    " "
   ]
  },
  {
   "cell_type": "markdown",
   "id": "b34ce422",
   "metadata": {},
   "source": [
    "This is where I stood at the end of the previous lab."
   ]
  },
  {
   "cell_type": "markdown",
   "id": "1e93a860",
   "metadata": {},
   "source": [
    "## 1. In this final lab, we will model our data. Import sklearn train_test_split and separate the data."
   ]
  },
  {
   "cell_type": "code",
   "execution_count": 17,
   "id": "bd5a901e",
   "metadata": {},
   "outputs": [],
   "source": [
    "from sklearn.model_selection import train_test_split"
   ]
  },
  {
   "cell_type": "markdown",
   "id": "f9fe43b2",
   "metadata": {},
   "source": [
    "I will do the train/test split later in the lab"
   ]
  },
  {
   "cell_type": "markdown",
   "id": "62a14a60",
   "metadata": {},
   "source": [
    "## 2. We will start with removing outliers"
   ]
  },
  {
   "cell_type": "markdown",
   "id": "8d0a4f0c",
   "metadata": {},
   "source": [
    "In the previous labs, I have binned most of the numerical variables, and left unchanged two of them :\n",
    "- total claim amount : will be the target\n",
    "- customer lifetime value : I thought this was somehow representing the age of the customer, but after googling CLV today, I realize I was totally wrong. I thus still have to handle this column."
   ]
  },
  {
   "cell_type": "code",
   "execution_count": 18,
   "id": "becf42c0",
   "metadata": {},
   "outputs": [
    {
     "data": {
      "image/png": "[encoded data removed]",
      "text/plain": [
       "<Figure size 432x288 with 1 Axes>"
      ]
     },
     "metadata": {
      "needs_background": "light"
     },
     "output_type": "display_data"
    }
   ],
   "source": [
    "sns.boxplot(x=data_wrangling['customer_lifetime_value'])\n",
    "plt.show()"
   ]
  },
  {
   "cell_type": "markdown",
   "id": "3ca933f7",
   "metadata": {},
   "source": [
    "We see that this variable clearly contains outliers.\n",
    "To avoid droping rows and losing data, I will try to appky a log transformation to the column"
   ]
  },
  {
   "cell_type": "code",
   "execution_count": 19,
   "id": "55033215",
   "metadata": {},
   "outputs": [
    {
     "data": {
      "text/plain": [
       "count     9134.000000\n",
       "mean      8004.940475\n",
       "std       6870.967608\n",
       "min       1898.007675\n",
       "25%       3994.251794\n",
       "50%       5780.182197\n",
       "75%       8962.167041\n",
       "max      83325.381190\n",
       "Name: customer_lifetime_value, dtype: float64"
      ]
     },
     "execution_count": 19,
     "metadata": {},
     "output_type": "execute_result"
    }
   ],
   "source": [
    "data_wrangling['customer_lifetime_value'].describe()"
   ]
  },
  {
   "cell_type": "markdown",
   "id": "1411e5f7",
   "metadata": {},
   "source": [
    "There is no NaN in the column (checked earlier) and only positive values."
   ]
  },
  {
   "cell_type": "code",
   "execution_count": 20,
   "id": "0e0a7250",
   "metadata": {},
   "outputs": [],
   "source": [
    "data_wrangling['customer_lifetime_value'] = data_wrangling['customer_lifetime_value'].apply(lambda x: np.log(x))"
   ]
  },
  {
   "cell_type": "code",
   "execution_count": 21,
   "id": "2878e885",
   "metadata": {},
   "outputs": [
    {
     "data": {
      "image/png": "[encoded data removed]",
      "text/plain": [
       "<Figure size 432x288 with 1 Axes>"
      ]
     },
     "metadata": {
      "needs_background": "light"
     },
     "output_type": "display_data"
    }
   ],
   "source": [
    "sns.boxplot(x=data_wrangling['customer_lifetime_value'])\n",
    "plt.show()"
   ]
  },
  {
   "cell_type": "markdown",
   "id": "a6f34351",
   "metadata": {},
   "source": [
    "This has strongly reduced the amplitude of the box plot."
   ]
  },
  {
   "cell_type": "markdown",
   "id": "0fad3c9f",
   "metadata": {},
   "source": [
    "## 3. Create a copy of the dataframe for the data wrangling."
   ]
  },
  {
   "cell_type": "markdown",
   "id": "97a1249c",
   "metadata": {},
   "source": [
    "This was already done."
   ]
  },
  {
   "cell_type": "markdown",
   "id": "c6aaa496",
   "metadata": {},
   "source": [
    "## 4. Normalize the continuous variables. You can use any one method you want."
   ]
  },
  {
   "cell_type": "markdown",
   "id": "6f62a9d1",
   "metadata": {},
   "source": [
    "From the hint in the read.me file, I understand that we should use an ordinal encoder as well for marital status and location code. I guess it is important to do so before we scale the numerical variables."
   ]
  },
  {
   "cell_type": "code",
   "execution_count": 22,
   "id": "7bc0962a",
   "metadata": {},
   "outputs": [
    {
     "data": {
      "text/plain": [
       "array(['Married', 'Single', 'Divorced'], dtype=object)"
      ]
     },
     "execution_count": 22,
     "metadata": {},
     "output_type": "execute_result"
    }
   ],
   "source": [
    "data_wrangling['marital_status'].unique()"
   ]
  },
  {
   "cell_type": "code",
   "execution_count": 23,
   "id": "fccbc376",
   "metadata": {},
   "outputs": [],
   "source": [
    "data_wrangling['marital_status'] = data_wrangling['marital_status'].map({ 'Single':1, 'Married':2, 'Divorced':3 })"
   ]
  },
  {
   "cell_type": "code",
   "execution_count": 24,
   "id": "39a8feb9",
   "metadata": {},
   "outputs": [
    {
     "data": {
      "text/plain": [
       "array(['Suburban', 'Rural', 'Urban'], dtype=object)"
      ]
     },
     "execution_count": 24,
     "metadata": {},
     "output_type": "execute_result"
    }
   ],
   "source": [
    "data_wrangling['location_code'].unique()"
   ]
  },
  {
   "cell_type": "code",
   "execution_count": 25,
   "id": "62882b1e",
   "metadata": {},
   "outputs": [],
   "source": [
    "data_wrangling['location_code'] = data_wrangling['location_code'].map({ 'Rural':1, 'Suburban':2, 'Urban':3 })"
   ]
  },
  {
   "cell_type": "code",
   "execution_count": 26,
   "id": "89e8db58",
   "metadata": {},
   "outputs": [
    {
     "data": {
      "text/plain": [
       "array(['Employed', 'Unemployed', 'Medical Leave', 'Disabled', 'Retired'],\n",
       "      dtype=object)"
      ]
     },
     "execution_count": 26,
     "metadata": {},
     "output_type": "execute_result"
    }
   ],
   "source": [
    "data_wrangling['employment_status'].unique()"
   ]
  },
  {
   "cell_type": "code",
   "execution_count": 27,
   "id": "5f9d4726",
   "metadata": {},
   "outputs": [
    {
     "data": {
      "text/html": [
       "<div>\n",
       "<style scoped>\n",
       "    .dataframe tbody tr th:only-of-type {\n",
       "        vertical-align: middle;\n",
       "    }\n",
       "\n",
       "    .dataframe tbody tr th {\n",
       "        vertical-align: top;\n",
       "    }\n",
       "\n",
       "    .dataframe thead th {\n",
       "        text-align: right;\n",
       "    }\n",
       "</style>\n",
       "<table border=\"1\" class=\"dataframe\">\n",
       "  <thead>\n",
       "    <tr style=\"text-align: right;\">\n",
       "      <th></th>\n",
       "      <th>income</th>\n",
       "    </tr>\n",
       "    <tr>\n",
       "      <th>employment_status</th>\n",
       "      <th></th>\n",
       "    </tr>\n",
       "  </thead>\n",
       "  <tbody>\n",
       "    <tr>\n",
       "      <th>Disabled</th>\n",
       "      <td>20045.582716</td>\n",
       "    </tr>\n",
       "    <tr>\n",
       "      <th>Employed</th>\n",
       "      <td>56384.884521</td>\n",
       "    </tr>\n",
       "    <tr>\n",
       "      <th>Medical Leave</th>\n",
       "      <td>20292.770833</td>\n",
       "    </tr>\n",
       "    <tr>\n",
       "      <th>Retired</th>\n",
       "      <td>20554.960993</td>\n",
       "    </tr>\n",
       "    <tr>\n",
       "      <th>Unemployed</th>\n",
       "      <td>0.000000</td>\n",
       "    </tr>\n",
       "  </tbody>\n",
       "</table>\n",
       "</div>"
      ],
      "text/plain": [
       "                         income\n",
       "employment_status              \n",
       "Disabled           20045.582716\n",
       "Employed           56384.884521\n",
       "Medical Leave      20292.770833\n",
       "Retired            20554.960993\n",
       "Unemployed             0.000000"
      ]
     },
     "execution_count": 27,
     "metadata": {},
     "output_type": "execute_result"
    }
   ],
   "source": [
    "customer_df.groupby('employment_status').agg({'income':np.mean})"
   ]
  },
  {
   "cell_type": "code",
   "execution_count": 28,
   "id": "850abd22",
   "metadata": {},
   "outputs": [],
   "source": [
    "data_wrangling['employment_status'] = data_wrangling['employment_status'].map({ 'Unemployed':1, 'Disabled':2, 'Medical Leave':3, 'Retired':4, 'Employed':5 })"
   ]
  },
  {
   "cell_type": "code",
   "execution_count": null,
   "id": "006e384c",
   "metadata": {},
   "outputs": [],
   "source": []
  },
  {
   "cell_type": "code",
   "execution_count": 29,
   "id": "e889141e",
   "metadata": {},
   "outputs": [],
   "source": [
    "X = data_wrangling.drop(['total_claim_amount'], axis=1)\n",
    "y = data_wrangling['total_claim_amount']\n",
    "\n",
    "X_train, X_test, y_train, y_test = train_test_split(X, y, test_size=0.2, random_state=100)"
   ]
  },
  {
   "cell_type": "code",
   "execution_count": 30,
   "id": "3f5696ed",
   "metadata": {},
   "outputs": [
    {
     "data": {
      "text/html": [
       "<div>\n",
       "<style scoped>\n",
       "    .dataframe tbody tr th:only-of-type {\n",
       "        vertical-align: middle;\n",
       "    }\n",
       "\n",
       "    .dataframe tbody tr th {\n",
       "        vertical-align: top;\n",
       "    }\n",
       "\n",
       "    .dataframe thead th {\n",
       "        text-align: right;\n",
       "    }\n",
       "</style>\n",
       "<table border=\"1\" class=\"dataframe\">\n",
       "  <thead>\n",
       "    <tr style=\"text-align: right;\">\n",
       "      <th></th>\n",
       "      <th>customer_lifetime_value</th>\n",
       "      <th>response</th>\n",
       "      <th>coverage</th>\n",
       "      <th>education</th>\n",
       "      <th>employment_status</th>\n",
       "      <th>location_code</th>\n",
       "      <th>marital_status</th>\n",
       "      <th>vehicle_size</th>\n",
       "      <th>years_since_last_claim</th>\n",
       "      <th>years_since_policy_inception</th>\n",
       "      <th>month</th>\n",
       "      <th>week</th>\n",
       "      <th>day</th>\n",
       "    </tr>\n",
       "  </thead>\n",
       "  <tbody>\n",
       "    <tr>\n",
       "      <th>7706</th>\n",
       "      <td>8.091063</td>\n",
       "      <td>1</td>\n",
       "      <td>2</td>\n",
       "      <td>3</td>\n",
       "      <td>5</td>\n",
       "      <td>2</td>\n",
       "      <td>3</td>\n",
       "      <td>2</td>\n",
       "      <td>0</td>\n",
       "      <td>6</td>\n",
       "      <td>1</td>\n",
       "      <td>4</td>\n",
       "      <td>26</td>\n",
       "    </tr>\n",
       "    <tr>\n",
       "      <th>779</th>\n",
       "      <td>9.334161</td>\n",
       "      <td>0</td>\n",
       "      <td>2</td>\n",
       "      <td>1</td>\n",
       "      <td>5</td>\n",
       "      <td>2</td>\n",
       "      <td>2</td>\n",
       "      <td>2</td>\n",
       "      <td>2</td>\n",
       "      <td>6</td>\n",
       "      <td>1</td>\n",
       "      <td>2</td>\n",
       "      <td>13</td>\n",
       "    </tr>\n",
       "    <tr>\n",
       "      <th>8189</th>\n",
       "      <td>8.744241</td>\n",
       "      <td>0</td>\n",
       "      <td>2</td>\n",
       "      <td>1</td>\n",
       "      <td>3</td>\n",
       "      <td>2</td>\n",
       "      <td>1</td>\n",
       "      <td>1</td>\n",
       "      <td>2</td>\n",
       "      <td>4</td>\n",
       "      <td>2</td>\n",
       "      <td>7</td>\n",
       "      <td>14</td>\n",
       "    </tr>\n",
       "    <tr>\n",
       "      <th>1942</th>\n",
       "      <td>8.365716</td>\n",
       "      <td>0</td>\n",
       "      <td>3</td>\n",
       "      <td>1</td>\n",
       "      <td>5</td>\n",
       "      <td>2</td>\n",
       "      <td>1</td>\n",
       "      <td>3</td>\n",
       "      <td>0</td>\n",
       "      <td>8</td>\n",
       "      <td>1</td>\n",
       "      <td>2</td>\n",
       "      <td>12</td>\n",
       "    </tr>\n",
       "    <tr>\n",
       "      <th>459</th>\n",
       "      <td>9.221357</td>\n",
       "      <td>0</td>\n",
       "      <td>2</td>\n",
       "      <td>3</td>\n",
       "      <td>3</td>\n",
       "      <td>3</td>\n",
       "      <td>2</td>\n",
       "      <td>3</td>\n",
       "      <td>2</td>\n",
       "      <td>4</td>\n",
       "      <td>2</td>\n",
       "      <td>7</td>\n",
       "      <td>16</td>\n",
       "    </tr>\n",
       "  </tbody>\n",
       "</table>\n",
       "</div>"
      ],
      "text/plain": [
       "      customer_lifetime_value  response  coverage  education  \\\n",
       "7706                 8.091063         1         2          3   \n",
       "779                  9.334161         0         2          1   \n",
       "8189                 8.744241         0         2          1   \n",
       "1942                 8.365716         0         3          1   \n",
       "459                  9.221357         0         2          3   \n",
       "\n",
       "      employment_status  location_code  marital_status  vehicle_size  \\\n",
       "7706                  5              2               3             2   \n",
       "779                   5              2               2             2   \n",
       "8189                  3              2               1             1   \n",
       "1942                  5              2               1             3   \n",
       "459                   3              3               2             3   \n",
       "\n",
       "      years_since_last_claim  years_since_policy_inception  month  week  day  \n",
       "7706                       0                             6      1     4   26  \n",
       "779                        2                             6      1     2   13  \n",
       "8189                       2                             4      2     7   14  \n",
       "1942                       0                             8      1     2   12  \n",
       "459                        2                             4      2     7   16  "
      ]
     },
     "execution_count": 30,
     "metadata": {},
     "output_type": "execute_result"
    }
   ],
   "source": [
    "numericals_train = X_train.select_dtypes(np.number)\n",
    "numericals_test = X_test.select_dtypes(np.number)\n",
    "numericals_train.head()"
   ]
  },
  {
   "cell_type": "code",
   "execution_count": 31,
   "id": "a32d0b79",
   "metadata": {},
   "outputs": [
    {
     "name": "stderr",
     "output_type": "stream",
     "text": [
      "C:\\Users\\ebour\\AppData\\Local\\Temp/ipykernel_7588/1113157546.py:1: DeprecationWarning: `np.object` is a deprecated alias for the builtin `object`. To silence this warning, use `object` by itself. Doing this will not modify any behavior and is safe. \n",
      "Deprecated in NumPy 1.20; for more details and guidance: https://numpy.org/devdocs/release/1.20.0-notes.html#deprecations\n",
      "  categoricals_train= X_train.select_dtypes(np.object)\n",
      "C:\\Users\\ebour\\AppData\\Local\\Temp/ipykernel_7588/1113157546.py:2: DeprecationWarning: `np.object` is a deprecated alias for the builtin `object`. To silence this warning, use `object` by itself. Doing this will not modify any behavior and is safe. \n",
      "Deprecated in NumPy 1.20; for more details and guidance: https://numpy.org/devdocs/release/1.20.0-notes.html#deprecations\n",
      "  categoricals_test= X_test.select_dtypes(np.object)\n"
     ]
    },
    {
     "data": {
      "text/html": [
       "<div>\n",
       "<style scoped>\n",
       "    .dataframe tbody tr th:only-of-type {\n",
       "        vertical-align: middle;\n",
       "    }\n",
       "\n",
       "    .dataframe tbody tr th {\n",
       "        vertical-align: top;\n",
       "    }\n",
       "\n",
       "    .dataframe thead th {\n",
       "        text-align: right;\n",
       "    }\n",
       "</style>\n",
       "<table border=\"1\" class=\"dataframe\">\n",
       "  <thead>\n",
       "    <tr style=\"text-align: right;\">\n",
       "      <th></th>\n",
       "      <th>state</th>\n",
       "      <th>gender</th>\n",
       "      <th>number_of_policies</th>\n",
       "      <th>policy</th>\n",
       "      <th>renew_offer_type</th>\n",
       "      <th>sales_channel</th>\n",
       "      <th>vehicle_class</th>\n",
       "    </tr>\n",
       "  </thead>\n",
       "  <tbody>\n",
       "    <tr>\n",
       "      <th>7706</th>\n",
       "      <td>California</td>\n",
       "      <td>F</td>\n",
       "      <td>1</td>\n",
       "      <td>Personal L2</td>\n",
       "      <td>Offer1</td>\n",
       "      <td>Agent</td>\n",
       "      <td>Car</td>\n",
       "    </tr>\n",
       "    <tr>\n",
       "      <th>779</th>\n",
       "      <td>California</td>\n",
       "      <td>F</td>\n",
       "      <td>2</td>\n",
       "      <td>Personal L1</td>\n",
       "      <td>Offer2</td>\n",
       "      <td>Branch</td>\n",
       "      <td>Car</td>\n",
       "    </tr>\n",
       "    <tr>\n",
       "      <th>8189</th>\n",
       "      <td>Oregon</td>\n",
       "      <td>F</td>\n",
       "      <td>3</td>\n",
       "      <td>Personal L1</td>\n",
       "      <td>Offer1</td>\n",
       "      <td>Agent</td>\n",
       "      <td>Car</td>\n",
       "    </tr>\n",
       "    <tr>\n",
       "      <th>1942</th>\n",
       "      <td>Nevada</td>\n",
       "      <td>F</td>\n",
       "      <td>1</td>\n",
       "      <td>Personal L3</td>\n",
       "      <td>Offer4</td>\n",
       "      <td>Branch</td>\n",
       "      <td>Car</td>\n",
       "    </tr>\n",
       "    <tr>\n",
       "      <th>459</th>\n",
       "      <td>California</td>\n",
       "      <td>F</td>\n",
       "      <td>2</td>\n",
       "      <td>Corporate L3</td>\n",
       "      <td>Offer1</td>\n",
       "      <td>Branch</td>\n",
       "      <td>Car</td>\n",
       "    </tr>\n",
       "  </tbody>\n",
       "</table>\n",
       "</div>"
      ],
      "text/plain": [
       "           state gender number_of_policies        policy renew_offer_type  \\\n",
       "7706  California      F                  1   Personal L2           Offer1   \n",
       "779   California      F                  2   Personal L1           Offer2   \n",
       "8189      Oregon      F                  3   Personal L1           Offer1   \n",
       "1942      Nevada      F                  1   Personal L3           Offer4   \n",
       "459   California      F                  2  Corporate L3           Offer1   \n",
       "\n",
       "     sales_channel vehicle_class  \n",
       "7706         Agent           Car  \n",
       "779         Branch           Car  \n",
       "8189         Agent           Car  \n",
       "1942        Branch           Car  \n",
       "459         Branch           Car  "
      ]
     },
     "execution_count": 31,
     "metadata": {},
     "output_type": "execute_result"
    }
   ],
   "source": [
    "categoricals_train= X_train.select_dtypes(np.object)\n",
    "categoricals_test= X_test.select_dtypes(np.object)\n",
    "categoricals_train.head()"
   ]
  },
  {
   "cell_type": "code",
   "execution_count": 32,
   "id": "0454f2eb",
   "metadata": {},
   "outputs": [],
   "source": [
    "from sklearn.preprocessing import StandardScaler\n",
    "\n",
    "transformer = StandardScaler().fit(numericals_train)\n",
    "numericals_train_standardized = transformer.transform(numericals_train)\n",
    "numericals_test_standardized = transformer.transform(numericals_test)"
   ]
  },
  {
   "cell_type": "markdown",
   "id": "e543fbe4",
   "metadata": {},
   "source": [
    "## 5. Encode the categorical variables"
   ]
  },
  {
   "cell_type": "code",
   "execution_count": 33,
   "id": "1a7b23dc",
   "metadata": {},
   "outputs": [],
   "source": [
    "from sklearn.preprocessing import OneHotEncoder\n",
    "\n",
    "encoder = OneHotEncoder(handle_unknown='error', drop='first').fit(categoricals_train)\n",
    "categoricals_train_encoded = encoder.transform(categoricals_train).toarray()\n",
    "categoricals_test_encoded = encoder.transform(categoricals_test).toarray()"
   ]
  },
  {
   "cell_type": "code",
   "execution_count": 34,
   "id": "8d66e5ee",
   "metadata": {},
   "outputs": [
    {
     "data": {
      "text/plain": [
       "[array(['Arizona', 'California', 'Nevada', 'Oregon', 'Washington'],\n",
       "       dtype=object),\n",
       " array(['F', 'M'], dtype=object),\n",
       " array(['1', '2', '3', '4-6', '> 6'], dtype=object),\n",
       " array(['Corporate L1', 'Corporate L2', 'Corporate L3', 'Personal L1',\n",
       "        'Personal L2', 'Personal L3', 'Special'], dtype=object),\n",
       " array(['Offer1', 'Offer2', 'Offer3', 'Offer4'], dtype=object),\n",
       " array(['Agent', 'Branch', 'Call Center', 'Web'], dtype=object),\n",
       " array(['Car', 'Lux', 'SUV'], dtype=object)]"
      ]
     },
     "execution_count": 34,
     "metadata": {},
     "output_type": "execute_result"
    }
   ],
   "source": [
    "encoder.categories_"
   ]
  },
  {
   "cell_type": "code",
   "execution_count": 35,
   "id": "2fdcf0e6",
   "metadata": {},
   "outputs": [
    {
     "data": {
      "text/plain": [
       "array([[1., 0., 0., ..., 0., 0., 0.],\n",
       "       [1., 0., 0., ..., 0., 0., 0.],\n",
       "       [0., 0., 1., ..., 0., 0., 0.],\n",
       "       ...,\n",
       "       [0., 0., 0., ..., 1., 0., 0.],\n",
       "       [0., 0., 1., ..., 0., 0., 0.],\n",
       "       [0., 0., 0., ..., 0., 0., 1.]])"
      ]
     },
     "execution_count": 35,
     "metadata": {},
     "output_type": "execute_result"
    }
   ],
   "source": [
    "categoricals_train_encoded"
   ]
  },
  {
   "cell_type": "markdown",
   "id": "2fb60c4e",
   "metadata": {},
   "source": [
    "## 6. The time variable can be useful. Try to transform its data into a useful one.\n",
    "#### Hint: Day week and month as integers might be useful."
   ]
  },
  {
   "cell_type": "markdown",
   "id": "9a046309",
   "metadata": {},
   "source": [
    "Already done in introduction."
   ]
  },
  {
   "cell_type": "markdown",
   "id": "3d13202b",
   "metadata": {},
   "source": [
    "## 7. Since the model will only accept numerical data, check and make sure that every column is numerical, if some are not, change it using encoding."
   ]
  },
  {
   "cell_type": "code",
   "execution_count": 36,
   "id": "df06a91a",
   "metadata": {},
   "outputs": [],
   "source": [
    "X_train = np.concatenate((numericals_train_standardized,categoricals_train_encoded),axis=1)\n",
    "X_test = np.concatenate((numericals_test_standardized,categoricals_test_encoded),axis=1)"
   ]
  },
  {
   "cell_type": "markdown",
   "id": "16666f8a",
   "metadata": {},
   "source": [
    "## 8. Try a simple linear regression with all the data to see whether we are getting good results."
   ]
  },
  {
   "cell_type": "code",
   "execution_count": 40,
   "id": "6c55e05e",
   "metadata": {},
   "outputs": [
    {
     "data": {
      "text/plain": [
       "0.5521108823846397"
      ]
     },
     "execution_count": 40,
     "metadata": {},
     "output_type": "execute_result"
    }
   ],
   "source": [
    "from sklearn import linear_model\n",
    "\n",
    "lm = linear_model.LinearRegression()\n",
    "lm.fit(X_train,y_train)\n",
    "score = lm.score(X_test, y_test)\n",
    "score"
   ]
  },
  {
   "cell_type": "markdown",
   "id": "cebf0420",
   "metadata": {},
   "source": [
    "The result is not very good, but we'll see later if it does better than the other ones we can try."
   ]
  },
  {
   "cell_type": "markdown",
   "id": "1e005b37",
   "metadata": {},
   "source": [
    "## 9. Great! Now define a function that takes a list of models and train (and tests) them so we can try a lot of them without repeating code."
   ]
  },
  {
   "cell_type": "code",
   "execution_count": 57,
   "id": "2f496470",
   "metadata": {},
   "outputs": [],
   "source": [
    "def model_train_test (model):\n",
    "    model.fit(X_train, y_train)\n",
    "    score = model.score(X_test, y_test)\n",
    "    return score"
   ]
  },
  {
   "cell_type": "code",
   "execution_count": 58,
   "id": "e39447aa",
   "metadata": {},
   "outputs": [
    {
     "data": {
      "text/plain": [
       "0.5521108823846397"
      ]
     },
     "execution_count": 58,
     "metadata": {},
     "output_type": "execute_result"
    }
   ],
   "source": [
    "lm2 = linear_model.LinearRegression()\n",
    "model_train_test(lm2)"
   ]
  },
  {
   "cell_type": "markdown",
   "id": "26189fa7",
   "metadata": {},
   "source": [
    "it seems to work !"
   ]
  },
  {
   "cell_type": "markdown",
   "id": "05fd1467",
   "metadata": {},
   "source": [
    "## 10. Use the function to check LinearRegressor and KNeighborsRegressor"
   ]
  },
  {
   "cell_type": "markdown",
   "id": "e377d85e",
   "metadata": {},
   "source": [
    "Linear regressor was just done as a check in question 9.\n",
    "Let's do KNeighborsRegressor."
   ]
  },
  {
   "cell_type": "code",
   "execution_count": 59,
   "id": "caf7a809",
   "metadata": {},
   "outputs": [
    {
     "data": {
      "text/plain": [
       "0.5626250577217318"
      ]
     },
     "execution_count": 59,
     "metadata": {},
     "output_type": "execute_result"
    }
   ],
   "source": [
    "from sklearn.neighbors import KNeighborsRegressor, KNeighborsClassifier\n",
    "\n",
    "KNN_3 = KNeighborsRegressor(n_neighbors=3)\n",
    "model_train_test(KNN_3)"
   ]
  },
  {
   "cell_type": "markdown",
   "id": "fed7134f",
   "metadata": {},
   "source": [
    "The score is slightly better than the linear regression, but not significantly. Let's try with other values for k."
   ]
  },
  {
   "cell_type": "code",
   "execution_count": 63,
   "id": "e7512e65",
   "metadata": {},
   "outputs": [
    {
     "name": "stdout",
     "output_type": "stream",
     "text": [
      "Score for k =  1  is  0.32422\n",
      "Score for k =  2  is  0.50606\n",
      "Score for k =  3  is  0.56263\n",
      "Score for k =  4  is  0.5756\n",
      "Score for k =  5  is  0.5802\n",
      "Score for k =  6  is  0.5742\n",
      "Score for k =  7  is  0.56798\n",
      "Score for k =  8  is  0.56405\n",
      "Score for k =  9  is  0.56356\n",
      "Score for k =  10  is  0.55693\n",
      "Score for k =  11  is  0.55743\n",
      "Score for k =  12  is  0.55613\n",
      "Score for k =  13  is  0.55911\n",
      "Score for k =  14  is  0.56061\n"
     ]
    }
   ],
   "source": [
    "for k in range(1,15):\n",
    "    KNN = KNeighborsRegressor(n_neighbors= k )\n",
    "    print('Score for k = ', k, ' is ', round(model_train_test(KNN), 5))"
   ]
  },
  {
   "cell_type": "code",
   "execution_count": 64,
   "id": "1c86fc62",
   "metadata": {},
   "outputs": [
    {
     "data": {
      "text/plain": [
       "Text(0, 0.5, 'Accuracy')"
      ]
     },
     "execution_count": 64,
     "metadata": {},
     "output_type": "execute_result"
    },
    {
     "data": {
      "image/png": "[encoded data removed]",
      "text/plain": [
       "<Figure size 720x432 with 1 Axes>"
      ]
     },
     "metadata": {
      "needs_background": "light"
     },
     "output_type": "display_data"
    }
   ],
   "source": [
    "scores = []\n",
    "for k in range(1,15):\n",
    "    KNN = KNeighborsRegressor(n_neighbors=k)\n",
    "    score = model_train_test(KNN)\n",
    "    scores.append(score)\n",
    "\n",
    "plt.figure(figsize=(10,6))\n",
    "plt.plot(range(1,15),scores,color = 'blue', linestyle='dashed',\n",
    "         marker='o', markerfacecolor='red', markersize=10)\n",
    "plt.title('Model score vs. K Value')\n",
    "plt.gca().invert_yaxis()\n",
    "plt.xlabel('K')\n",
    "plt.ylabel('Accuracy')"
   ]
  },
  {
   "cell_type": "markdown",
   "id": "ae70749a",
   "metadata": {},
   "source": [
    "The best value for k seems to be 5, which is small enough not to flatten the regression and not have too much bias either.\n",
    "The score of the model is then 0.5802."
   ]
  },
  {
   "cell_type": "markdown",
   "id": "71358a41",
   "metadata": {},
   "source": [
    "## 11. You can check also the MLPRegressor for this task!"
   ]
  },
  {
   "cell_type": "code",
   "execution_count": 65,
   "id": "c5159488",
   "metadata": {},
   "outputs": [],
   "source": [
    "from sklearn.neural_network import MLPRegressor"
   ]
  },
  {
   "cell_type": "code",
   "execution_count": 66,
   "id": "9b5f23bb",
   "metadata": {},
   "outputs": [],
   "source": [
    "MLP_reg = MLPRegressor(random_state=100, max_iter=500)"
   ]
  },
  {
   "cell_type": "code",
   "execution_count": 67,
   "id": "41a6c98d",
   "metadata": {},
   "outputs": [
    {
     "name": "stderr",
     "output_type": "stream",
     "text": [
      "C:\\Users\\ebour\\anaconda3\\lib\\site-packages\\sklearn\\neural_network\\_multilayer_perceptron.py:692: ConvergenceWarning: Stochastic Optimizer: Maximum iterations (500) reached and the optimization hasn't converged yet.\n",
      "  warnings.warn(\n"
     ]
    },
    {
     "data": {
      "text/plain": [
       "0.800160675323349"
      ]
     },
     "execution_count": 67,
     "metadata": {},
     "output_type": "execute_result"
    }
   ],
   "source": [
    "model_train_test(MLP_reg)"
   ]
  },
  {
   "cell_type": "code",
   "execution_count": 68,
   "id": "e7b6c1fa",
   "metadata": {},
   "outputs": [
    {
     "name": "stderr",
     "output_type": "stream",
     "text": [
      "C:\\Users\\ebour\\anaconda3\\lib\\site-packages\\sklearn\\neural_network\\_multilayer_perceptron.py:692: ConvergenceWarning: Stochastic Optimizer: Maximum iterations (750) reached and the optimization hasn't converged yet.\n",
      "  warnings.warn(\n"
     ]
    },
    {
     "data": {
      "text/plain": [
       "0.8098339265439786"
      ]
     },
     "execution_count": 68,
     "metadata": {},
     "output_type": "execute_result"
    }
   ],
   "source": [
    "MLP_reg_750 = MLPRegressor(random_state=100, max_iter=750)\n",
    "model_train_test(MLP_reg_750)"
   ]
  },
  {
   "cell_type": "code",
   "execution_count": 69,
   "id": "b514b105",
   "metadata": {},
   "outputs": [
    {
     "name": "stderr",
     "output_type": "stream",
     "text": [
      "C:\\Users\\ebour\\anaconda3\\lib\\site-packages\\sklearn\\neural_network\\_multilayer_perceptron.py:692: ConvergenceWarning: Stochastic Optimizer: Maximum iterations (1000) reached and the optimization hasn't converged yet.\n",
      "  warnings.warn(\n"
     ]
    },
    {
     "data": {
      "text/plain": [
       "0.8139825281610994"
      ]
     },
     "execution_count": 69,
     "metadata": {},
     "output_type": "execute_result"
    }
   ],
   "source": [
    "MLP_reg_750 = MLPRegressor(random_state=100, max_iter=1000)\n",
    "model_train_test(MLP_reg_750)"
   ]
  },
  {
   "cell_type": "markdown",
   "id": "7f7f0ee7",
   "metadata": {},
   "source": [
    "We see that his model brings up a significantly better result than the linear of KNeighbors regressors.\n",
    "\n",
    "When we increase the max number of iterations, the results seem to even improve slightly. I'll stop here, to avoid crashing my computer !"
   ]
  },
  {
   "cell_type": "code",
   "execution_count": null,
   "id": "21d9eba5",
   "metadata": {},
   "outputs": [],
   "source": []
  }
 ],
 "metadata": {
  "kernelspec": {
   "display_name": "Python 3 (ipykernel)",
   "language": "python",
   "name": "python3"
  },
  "language_info": {
   "codemirror_mode": {
    "name": "ipython",
    "version": 3
   },
   "file_extension": ".py",
   "mimetype": "text/x-python",
   "name": "python",
   "nbconvert_exporter": "python",
   "pygments_lexer": "ipython3",
   "version": "3.9.7"
  }
 },
 "nbformat": 4,
 "nbformat_minor": 5
}
